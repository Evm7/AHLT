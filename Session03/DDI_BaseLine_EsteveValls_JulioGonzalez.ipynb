{
  "nbformat": 4,
  "nbformat_minor": 0,
  "metadata": {
    "colab": {
      "name": "DDI-BaseLine_EsteveValls_JulioGonzalez.ipynb",
      "provenance": [],
      "collapsed_sections": []
    },
    "kernelspec": {
      "name": "python3",
      "display_name": "Python 3"
    },
    "language_info": {
      "name": "python"
    }
  },
  "cells": [
    {
      "cell_type": "markdown",
      "metadata": {
        "id": "whGcxoegy6fG"
      },
      "source": [
        "# DDI Baseline\n",
        "\n",
        "Authors:\n",
        "*   Esteve Valls Mascaró\n",
        "*   Julio González López\n",
        "\n",
        "\n"
      ]
    },
    {
      "cell_type": "markdown",
      "metadata": {
        "id": "NYRHdoTTo-qM"
      },
      "source": [
        "IN ORDER TO PROCEED WITH THE CODE YOU NEED TO LOAD INTO THE COLAB NOTEBOOK THE FILES PLACED INSIDE /files/"
      ]
    },
    {
      "cell_type": "markdown",
      "metadata": {
        "id": "1RlmL5bX1G5U"
      },
      "source": [
        "## Load Json Files"
      ]
    },
    {
      "cell_type": "code",
      "metadata": {
        "id": "EwIHiRpv1gSS"
      },
      "source": [
        "classes = [\"advise\", \"effect\", \"int\", \"mechanism\", \"null\"]"
      ],
      "execution_count": 1,
      "outputs": []
    },
    {
      "cell_type": "code",
      "metadata": {
        "id": "F4Acku3m1lyK"
      },
      "source": [
        "import json\n",
        "def loadData(class_):\n",
        "  path =\"/content/drive/MyDrive/MATT/AHLT/\"+class_+\".json\"\n",
        "  with open(path) as json_file:\n",
        "    data = json.load(json_file)\n",
        "    return data"
      ],
      "execution_count": 2,
      "outputs": []
    },
    {
      "cell_type": "code",
      "metadata": {
        "id": "lPt6Fwmv13BS"
      },
      "source": [
        "DDI_info = {}\n",
        "for c in classes:\n",
        "  DDI_info[c] = loadData(c)"
      ],
      "execution_count": 3,
      "outputs": []
    },
    {
      "cell_type": "code",
      "metadata": {
        "id": "m3ZJjYuUgzCk"
      },
      "source": [
        "with open(\"/content/drive/MyDrive/MATT/AHLT/clues.json\") as json_file:\n",
        "  Clues = json.load(json_file)\n"
      ],
      "execution_count": 20,
      "outputs": []
    },
    {
      "cell_type": "markdown",
      "metadata": {
        "id": "ZeCv7gwZ2I-y"
      },
      "source": [
        "### Exploratory Data Analysis"
      ]
    },
    {
      "cell_type": "code",
      "metadata": {
        "id": "iyJye7yyD9Ts"
      },
      "source": [
        "def checkInterctions(map):\n",
        "    interactions = {}\n",
        "    for type1, values in map.items():\n",
        "        for tok, num in values.items():\n",
        "            for type2 in map.keys():\n",
        "                if type1 is not type2:\n",
        "                    if tok in map[type2]:\n",
        "                        if tok not in interactions:\n",
        "                            interactions[tok] = []\n",
        "                        if (str(type1)+\"-\"+str(num)) not in interactions[tok]:\n",
        "                          interactions[tok].append(str(type1)+\"-\"+str(num))\n",
        "    return interactions"
      ],
      "execution_count": 5,
      "outputs": []
    },
    {
      "cell_type": "code",
      "metadata": {
        "id": "tctzT_ol2IhK"
      },
      "source": [
        "import pandas as pd\n",
        "from matplotlib import pyplot as plt\n",
        "\n",
        "def searchClues(info_DDI, key = \"clue_words\", how_many=15):\n",
        "    clue_words = {}\n",
        "    for class_, info in info_DDI.items():\n",
        "        if class_ not in clue_words:\n",
        "            clue_words[class_] = {}\n",
        "        clue_words[class_] = info[key]\n",
        "    a = pd.DataFrame.from_dict(clue_words)\n",
        "\n",
        "    def cut(dict):\n",
        "        ks = list(dict.keys())[:how_many]\n",
        "        map = {}\n",
        "        for k in ks:\n",
        "            map[k]=dict[k]\n",
        "        return map\n",
        "\n",
        "    for class_ in list(info_DDI.keys()):\n",
        "        clue_words[class_] = cut(a[class_].sort_values(ascending=False).dropna().to_dict())\n",
        "\n",
        "    interactions = checkInterctions(clue_words)\n",
        "    return clue_words, interactions\n",
        "\n",
        "def plot(data, title = \"Clues Analysis\"):\n",
        "    a = pd.DataFrame.from_dict(data)\n",
        "\n",
        "    fig = a.plot.bar()\n",
        "    plt.title(title, fontsize=20)\n",
        "    plt.ylabel('Number of Interactions', fontsize=18)\n",
        "    plt.xlabel(title, fontsize=16)\n",
        "    plt.savefig(title+'.jpg')\n",
        "    plt.show()\n",
        "\n"
      ],
      "execution_count": 6,
      "outputs": []
    },
    {
      "cell_type": "code",
      "metadata": {
        "id": "1FS3BxPRER1D"
      },
      "source": [
        "clue_words, interactions = searchClues(DDI_info, key=\"clue_words\")"
      ],
      "execution_count": 7,
      "outputs": []
    },
    {
      "cell_type": "code",
      "metadata": {
        "colab": {
          "base_uri": "https://localhost:8080/",
          "height": 1000
        },
        "id": "XR9FSfQWEpSo",
        "outputId": "125924ba-d05c-41c7-91a2-0a89194d0157"
      },
      "source": [
        "pd.DataFrame.from_dict(clue_words)"
      ],
      "execution_count": 8,
      "outputs": [
        {
          "output_type": "execute_result",
          "data": {
            "text/html": [
              "<div>\n",
              "<style scoped>\n",
              "    .dataframe tbody tr th:only-of-type {\n",
              "        vertical-align: middle;\n",
              "    }\n",
              "\n",
              "    .dataframe tbody tr th {\n",
              "        vertical-align: top;\n",
              "    }\n",
              "\n",
              "    .dataframe thead th {\n",
              "        text-align: right;\n",
              "    }\n",
              "</style>\n",
              "<table border=\"1\" class=\"dataframe\">\n",
              "  <thead>\n",
              "    <tr style=\"text-align: right;\">\n",
              "      <th></th>\n",
              "      <th>advise</th>\n",
              "      <th>effect</th>\n",
              "      <th>int</th>\n",
              "      <th>mechanism</th>\n",
              "      <th>null</th>\n",
              "    </tr>\n",
              "  </thead>\n",
              "  <tbody>\n",
              "    <tr>\n",
              "      <th>administered</th>\n",
              "      <td>106.0</td>\n",
              "      <td>89.0</td>\n",
              "      <td>NaN</td>\n",
              "      <td>NaN</td>\n",
              "      <td>NaN</td>\n",
              "    </tr>\n",
              "    <tr>\n",
              "      <th>e.g.</th>\n",
              "      <td>92.0</td>\n",
              "      <td>93.0</td>\n",
              "      <td>105.0</td>\n",
              "      <td>58.0</td>\n",
              "      <td>1401.0</td>\n",
              "    </tr>\n",
              "    <tr>\n",
              "      <th>patients</th>\n",
              "      <td>90.0</td>\n",
              "      <td>NaN</td>\n",
              "      <td>NaN</td>\n",
              "      <td>NaN</td>\n",
              "      <td>NaN</td>\n",
              "    </tr>\n",
              "    <tr>\n",
              "      <th>drugs</th>\n",
              "      <td>80.0</td>\n",
              "      <td>189.0</td>\n",
              "      <td>50.0</td>\n",
              "      <td>75.0</td>\n",
              "      <td>2730.0</td>\n",
              "    </tr>\n",
              "    <tr>\n",
              "      <th>used</th>\n",
              "      <td>71.0</td>\n",
              "      <td>NaN</td>\n",
              "      <td>NaN</td>\n",
              "      <td>NaN</td>\n",
              "      <td>NaN</td>\n",
              "    </tr>\n",
              "    <tr>\n",
              "      <th>inhibitors</th>\n",
              "      <td>66.0</td>\n",
              "      <td>NaN</td>\n",
              "      <td>40.0</td>\n",
              "      <td>58.0</td>\n",
              "      <td>2364.0</td>\n",
              "    </tr>\n",
              "    <tr>\n",
              "      <th>receiving</th>\n",
              "      <td>58.0</td>\n",
              "      <td>NaN</td>\n",
              "      <td>NaN</td>\n",
              "      <td>NaN</td>\n",
              "      <td>NaN</td>\n",
              "    </tr>\n",
              "    <tr>\n",
              "      <th>including</th>\n",
              "      <td>51.0</td>\n",
              "      <td>82.0</td>\n",
              "      <td>NaN</td>\n",
              "      <td>NaN</td>\n",
              "      <td>NaN</td>\n",
              "    </tr>\n",
              "    <tr>\n",
              "      <th>concomitantly</th>\n",
              "      <td>48.0</td>\n",
              "      <td>NaN</td>\n",
              "      <td>NaN</td>\n",
              "      <td>NaN</td>\n",
              "      <td>NaN</td>\n",
              "    </tr>\n",
              "    <tr>\n",
              "      <th>antidepressants</th>\n",
              "      <td>44.0</td>\n",
              "      <td>NaN</td>\n",
              "      <td>NaN</td>\n",
              "      <td>NaN</td>\n",
              "      <td>NaN</td>\n",
              "    </tr>\n",
              "    <tr>\n",
              "      <th>caution</th>\n",
              "      <td>43.0</td>\n",
              "      <td>NaN</td>\n",
              "      <td>NaN</td>\n",
              "      <td>NaN</td>\n",
              "      <td>NaN</td>\n",
              "    </tr>\n",
              "    <tr>\n",
              "      <th>ketoconazole</th>\n",
              "      <td>42.0</td>\n",
              "      <td>NaN</td>\n",
              "      <td>NaN</td>\n",
              "      <td>NaN</td>\n",
              "      <td>NaN</td>\n",
              "    </tr>\n",
              "    <tr>\n",
              "      <th>CYP3A4</th>\n",
              "      <td>42.0</td>\n",
              "      <td>NaN</td>\n",
              "      <td>NaN</td>\n",
              "      <td>NaN</td>\n",
              "      <td>NaN</td>\n",
              "    </tr>\n",
              "    <tr>\n",
              "      <th>metabolized</th>\n",
              "      <td>39.0</td>\n",
              "      <td>NaN</td>\n",
              "      <td>NaN</td>\n",
              "      <td>NaN</td>\n",
              "      <td>NaN</td>\n",
              "    </tr>\n",
              "    <tr>\n",
              "      <th>strong</th>\n",
              "      <td>38.0</td>\n",
              "      <td>NaN</td>\n",
              "      <td>NaN</td>\n",
              "      <td>NaN</td>\n",
              "      <td>NaN</td>\n",
              "    </tr>\n",
              "    <tr>\n",
              "      <th>may</th>\n",
              "      <td>NaN</td>\n",
              "      <td>382.0</td>\n",
              "      <td>138.0</td>\n",
              "      <td>164.0</td>\n",
              "      <td>1115.0</td>\n",
              "    </tr>\n",
              "    <tr>\n",
              "      <th>effects</th>\n",
              "      <td>NaN</td>\n",
              "      <td>190.0</td>\n",
              "      <td>NaN</td>\n",
              "      <td>NaN</td>\n",
              "      <td>NaN</td>\n",
              "    </tr>\n",
              "    <tr>\n",
              "      <th>alcohol</th>\n",
              "      <td>NaN</td>\n",
              "      <td>178.0</td>\n",
              "      <td>NaN</td>\n",
              "      <td>NaN</td>\n",
              "      <td>NaN</td>\n",
              "    </tr>\n",
              "    <tr>\n",
              "      <th>response</th>\n",
              "      <td>NaN</td>\n",
              "      <td>173.0</td>\n",
              "      <td>NaN</td>\n",
              "      <td>NaN</td>\n",
              "      <td>NaN</td>\n",
              "    </tr>\n",
              "    <tr>\n",
              "      <th>acid</th>\n",
              "      <td>NaN</td>\n",
              "      <td>164.0</td>\n",
              "      <td>NaN</td>\n",
              "      <td>NaN</td>\n",
              "      <td>3168.0</td>\n",
              "    </tr>\n",
              "    <tr>\n",
              "      <th>include</th>\n",
              "      <td>NaN</td>\n",
              "      <td>138.0</td>\n",
              "      <td>NaN</td>\n",
              "      <td>NaN</td>\n",
              "      <td>NaN</td>\n",
              "    </tr>\n",
              "    <tr>\n",
              "      <th>effect</th>\n",
              "      <td>NaN</td>\n",
              "      <td>108.0</td>\n",
              "      <td>NaN</td>\n",
              "      <td>NaN</td>\n",
              "      <td>NaN</td>\n",
              "    </tr>\n",
              "    <tr>\n",
              "      <th>agents</th>\n",
              "      <td>NaN</td>\n",
              "      <td>99.0</td>\n",
              "      <td>NaN</td>\n",
              "      <td>NaN</td>\n",
              "      <td>NaN</td>\n",
              "    </tr>\n",
              "    <tr>\n",
              "      <th>antibiotics</th>\n",
              "      <td>NaN</td>\n",
              "      <td>97.0</td>\n",
              "      <td>74.0</td>\n",
              "      <td>NaN</td>\n",
              "      <td>NaN</td>\n",
              "    </tr>\n",
              "    <tr>\n",
              "      <th>certain</th>\n",
              "      <td>NaN</td>\n",
              "      <td>96.0</td>\n",
              "      <td>NaN</td>\n",
              "      <td>NaN</td>\n",
              "      <td>NaN</td>\n",
              "    </tr>\n",
              "    <tr>\n",
              "      <th>man</th>\n",
              "      <td>NaN</td>\n",
              "      <td>79.0</td>\n",
              "      <td>NaN</td>\n",
              "      <td>NaN</td>\n",
              "      <td>NaN</td>\n",
              "    </tr>\n",
              "    <tr>\n",
              "      <th>interact</th>\n",
              "      <td>NaN</td>\n",
              "      <td>NaN</td>\n",
              "      <td>123.0</td>\n",
              "      <td>NaN</td>\n",
              "      <td>NaN</td>\n",
              "    </tr>\n",
              "    <tr>\n",
              "      <th>following</th>\n",
              "      <td>NaN</td>\n",
              "      <td>NaN</td>\n",
              "      <td>73.0</td>\n",
              "      <td>90.0</td>\n",
              "      <td>NaN</td>\n",
              "    </tr>\n",
              "    <tr>\n",
              "      <th>medications</th>\n",
              "      <td>NaN</td>\n",
              "      <td>NaN</td>\n",
              "      <td>62.0</td>\n",
              "      <td>NaN</td>\n",
              "      <td>NaN</td>\n",
              "    </tr>\n",
              "    <tr>\n",
              "      <th>acetaminophen</th>\n",
              "      <td>NaN</td>\n",
              "      <td>NaN</td>\n",
              "      <td>56.0</td>\n",
              "      <td>NaN</td>\n",
              "      <td>NaN</td>\n",
              "    </tr>\n",
              "    <tr>\n",
              "      <th>Tylenol</th>\n",
              "      <td>NaN</td>\n",
              "      <td>NaN</td>\n",
              "      <td>54.0</td>\n",
              "      <td>NaN</td>\n",
              "      <td>NaN</td>\n",
              "    </tr>\n",
              "    <tr>\n",
              "      <th>ampicillin</th>\n",
              "      <td>NaN</td>\n",
              "      <td>NaN</td>\n",
              "      <td>40.0</td>\n",
              "      <td>NaN</td>\n",
              "      <td>NaN</td>\n",
              "    </tr>\n",
              "    <tr>\n",
              "      <th>tetracycline</th>\n",
              "      <td>NaN</td>\n",
              "      <td>NaN</td>\n",
              "      <td>39.0</td>\n",
              "      <td>NaN</td>\n",
              "      <td>NaN</td>\n",
              "    </tr>\n",
              "    <tr>\n",
              "      <th>anticonvulsants</th>\n",
              "      <td>NaN</td>\n",
              "      <td>NaN</td>\n",
              "      <td>38.0</td>\n",
              "      <td>NaN</td>\n",
              "      <td>NaN</td>\n",
              "    </tr>\n",
              "    <tr>\n",
              "      <th>cyclosporine</th>\n",
              "      <td>NaN</td>\n",
              "      <td>NaN</td>\n",
              "      <td>38.0</td>\n",
              "      <td>NaN</td>\n",
              "      <td>NaN</td>\n",
              "    </tr>\n",
              "    <tr>\n",
              "      <th>Dilantin</th>\n",
              "      <td>NaN</td>\n",
              "      <td>NaN</td>\n",
              "      <td>37.0</td>\n",
              "      <td>NaN</td>\n",
              "      <td>NaN</td>\n",
              "    </tr>\n",
              "    <tr>\n",
              "      <th>increase</th>\n",
              "      <td>NaN</td>\n",
              "      <td>NaN</td>\n",
              "      <td>NaN</td>\n",
              "      <td>78.0</td>\n",
              "      <td>NaN</td>\n",
              "    </tr>\n",
              "    <tr>\n",
              "      <th>plasma</th>\n",
              "      <td>NaN</td>\n",
              "      <td>NaN</td>\n",
              "      <td>NaN</td>\n",
              "      <td>76.0</td>\n",
              "      <td>NaN</td>\n",
              "    </tr>\n",
              "    <tr>\n",
              "      <th>metabolism</th>\n",
              "      <td>NaN</td>\n",
              "      <td>NaN</td>\n",
              "      <td>NaN</td>\n",
              "      <td>75.0</td>\n",
              "      <td>NaN</td>\n",
              "    </tr>\n",
              "    <tr>\n",
              "      <th>increased</th>\n",
              "      <td>NaN</td>\n",
              "      <td>NaN</td>\n",
              "      <td>NaN</td>\n",
              "      <td>71.0</td>\n",
              "      <td>NaN</td>\n",
              "    </tr>\n",
              "    <tr>\n",
              "      <th>mg</th>\n",
              "      <td>NaN</td>\n",
              "      <td>NaN</td>\n",
              "      <td>NaN</td>\n",
              "      <td>66.0</td>\n",
              "      <td>NaN</td>\n",
              "    </tr>\n",
              "    <tr>\n",
              "      <th>concentrations</th>\n",
              "      <td>NaN</td>\n",
              "      <td>NaN</td>\n",
              "      <td>NaN</td>\n",
              "      <td>64.0</td>\n",
              "      <td>NaN</td>\n",
              "    </tr>\n",
              "    <tr>\n",
              "      <th>oral</th>\n",
              "      <td>NaN</td>\n",
              "      <td>NaN</td>\n",
              "      <td>NaN</td>\n",
              "      <td>63.0</td>\n",
              "      <td>1410.0</td>\n",
              "    </tr>\n",
              "    <tr>\n",
              "      <th>itraconazole</th>\n",
              "      <td>NaN</td>\n",
              "      <td>NaN</td>\n",
              "      <td>NaN</td>\n",
              "      <td>59.0</td>\n",
              "      <td>NaN</td>\n",
              "    </tr>\n",
              "    <tr>\n",
              "      <th>absorption</th>\n",
              "      <td>NaN</td>\n",
              "      <td>NaN</td>\n",
              "      <td>NaN</td>\n",
              "      <td>59.0</td>\n",
              "      <td>NaN</td>\n",
              "    </tr>\n",
              "    <tr>\n",
              "      <th>cimetidine</th>\n",
              "      <td>NaN</td>\n",
              "      <td>NaN</td>\n",
              "      <td>NaN</td>\n",
              "      <td>58.0</td>\n",
              "      <td>NaN</td>\n",
              "    </tr>\n",
              "    <tr>\n",
              "      <th>prolonged</th>\n",
              "      <td>NaN</td>\n",
              "      <td>NaN</td>\n",
              "      <td>NaN</td>\n",
              "      <td>NaN</td>\n",
              "      <td>1161.0</td>\n",
              "    </tr>\n",
              "    <tr>\n",
              "      <th>phenytoin</th>\n",
              "      <td>NaN</td>\n",
              "      <td>NaN</td>\n",
              "      <td>NaN</td>\n",
              "      <td>NaN</td>\n",
              "      <td>1076.0</td>\n",
              "    </tr>\n",
              "    <tr>\n",
              "      <th>protease</th>\n",
              "      <td>NaN</td>\n",
              "      <td>NaN</td>\n",
              "      <td>NaN</td>\n",
              "      <td>NaN</td>\n",
              "      <td>1042.0</td>\n",
              "    </tr>\n",
              "    <tr>\n",
              "      <th>phenylbutazone</th>\n",
              "      <td>NaN</td>\n",
              "      <td>NaN</td>\n",
              "      <td>NaN</td>\n",
              "      <td>NaN</td>\n",
              "      <td>1006.0</td>\n",
              "    </tr>\n",
              "    <tr>\n",
              "      <th>clofibrate</th>\n",
              "      <td>NaN</td>\n",
              "      <td>NaN</td>\n",
              "      <td>NaN</td>\n",
              "      <td>NaN</td>\n",
              "      <td>995.0</td>\n",
              "    </tr>\n",
              "    <tr>\n",
              "      <th>anesthetics</th>\n",
              "      <td>NaN</td>\n",
              "      <td>NaN</td>\n",
              "      <td>NaN</td>\n",
              "      <td>NaN</td>\n",
              "      <td>953.0</td>\n",
              "    </tr>\n",
              "    <tr>\n",
              "      <th>naproxen</th>\n",
              "      <td>NaN</td>\n",
              "      <td>NaN</td>\n",
              "      <td>NaN</td>\n",
              "      <td>NaN</td>\n",
              "      <td>940.0</td>\n",
              "    </tr>\n",
              "    <tr>\n",
              "      <th>indomethacin</th>\n",
              "      <td>NaN</td>\n",
              "      <td>NaN</td>\n",
              "      <td>NaN</td>\n",
              "      <td>NaN</td>\n",
              "      <td>861.0</td>\n",
              "    </tr>\n",
              "    <tr>\n",
              "      <th>oxidase</th>\n",
              "      <td>NaN</td>\n",
              "      <td>NaN</td>\n",
              "      <td>NaN</td>\n",
              "      <td>NaN</td>\n",
              "      <td>838.0</td>\n",
              "    </tr>\n",
              "  </tbody>\n",
              "</table>\n",
              "</div>"
            ],
            "text/plain": [
              "                 advise  effect    int  mechanism    null\n",
              "administered      106.0    89.0    NaN        NaN     NaN\n",
              "e.g.               92.0    93.0  105.0       58.0  1401.0\n",
              "patients           90.0     NaN    NaN        NaN     NaN\n",
              "drugs              80.0   189.0   50.0       75.0  2730.0\n",
              "used               71.0     NaN    NaN        NaN     NaN\n",
              "inhibitors         66.0     NaN   40.0       58.0  2364.0\n",
              "receiving          58.0     NaN    NaN        NaN     NaN\n",
              "including          51.0    82.0    NaN        NaN     NaN\n",
              "concomitantly      48.0     NaN    NaN        NaN     NaN\n",
              "antidepressants    44.0     NaN    NaN        NaN     NaN\n",
              "caution            43.0     NaN    NaN        NaN     NaN\n",
              "ketoconazole       42.0     NaN    NaN        NaN     NaN\n",
              "CYP3A4             42.0     NaN    NaN        NaN     NaN\n",
              "metabolized        39.0     NaN    NaN        NaN     NaN\n",
              "strong             38.0     NaN    NaN        NaN     NaN\n",
              "may                 NaN   382.0  138.0      164.0  1115.0\n",
              "effects             NaN   190.0    NaN        NaN     NaN\n",
              "alcohol             NaN   178.0    NaN        NaN     NaN\n",
              "response            NaN   173.0    NaN        NaN     NaN\n",
              "acid                NaN   164.0    NaN        NaN  3168.0\n",
              "include             NaN   138.0    NaN        NaN     NaN\n",
              "effect              NaN   108.0    NaN        NaN     NaN\n",
              "agents              NaN    99.0    NaN        NaN     NaN\n",
              "antibiotics         NaN    97.0   74.0        NaN     NaN\n",
              "certain             NaN    96.0    NaN        NaN     NaN\n",
              "man                 NaN    79.0    NaN        NaN     NaN\n",
              "interact            NaN     NaN  123.0        NaN     NaN\n",
              "following           NaN     NaN   73.0       90.0     NaN\n",
              "medications         NaN     NaN   62.0        NaN     NaN\n",
              "acetaminophen       NaN     NaN   56.0        NaN     NaN\n",
              "Tylenol             NaN     NaN   54.0        NaN     NaN\n",
              "ampicillin          NaN     NaN   40.0        NaN     NaN\n",
              "tetracycline        NaN     NaN   39.0        NaN     NaN\n",
              "anticonvulsants     NaN     NaN   38.0        NaN     NaN\n",
              "cyclosporine        NaN     NaN   38.0        NaN     NaN\n",
              "Dilantin            NaN     NaN   37.0        NaN     NaN\n",
              "increase            NaN     NaN    NaN       78.0     NaN\n",
              "plasma              NaN     NaN    NaN       76.0     NaN\n",
              "metabolism          NaN     NaN    NaN       75.0     NaN\n",
              "increased           NaN     NaN    NaN       71.0     NaN\n",
              "mg                  NaN     NaN    NaN       66.0     NaN\n",
              "concentrations      NaN     NaN    NaN       64.0     NaN\n",
              "oral                NaN     NaN    NaN       63.0  1410.0\n",
              "itraconazole        NaN     NaN    NaN       59.0     NaN\n",
              "absorption          NaN     NaN    NaN       59.0     NaN\n",
              "cimetidine          NaN     NaN    NaN       58.0     NaN\n",
              "prolonged           NaN     NaN    NaN        NaN  1161.0\n",
              "phenytoin           NaN     NaN    NaN        NaN  1076.0\n",
              "protease            NaN     NaN    NaN        NaN  1042.0\n",
              "phenylbutazone      NaN     NaN    NaN        NaN  1006.0\n",
              "clofibrate          NaN     NaN    NaN        NaN   995.0\n",
              "anesthetics         NaN     NaN    NaN        NaN   953.0\n",
              "naproxen            NaN     NaN    NaN        NaN   940.0\n",
              "indomethacin        NaN     NaN    NaN        NaN   861.0\n",
              "oxidase             NaN     NaN    NaN        NaN   838.0"
            ]
          },
          "metadata": {
            "tags": []
          },
          "execution_count": 8
        }
      ]
    },
    {
      "cell_type": "code",
      "metadata": {
        "id": "AkYA74OSpb3R"
      },
      "source": [
        "clues = {}\n",
        "for class_ in classes:\n",
        "  if class_!=\"null\":\n",
        "    clues[class_] = clue_words[class_]"
      ],
      "execution_count": 9,
      "outputs": []
    },
    {
      "cell_type": "code",
      "metadata": {
        "colab": {
          "base_uri": "https://localhost:8080/",
          "height": 375
        },
        "id": "zA9jw1n5Ehbg",
        "outputId": "e01ca655-89cd-4dd6-86e7-72cdc825c84d"
      },
      "source": [
        "plot(clues, title=\"Clues Analysis\")"
      ],
      "execution_count": 10,
      "outputs": [
        {
          "output_type": "display_data",
          "data": {
            "image/png": "[encoded data removed]",
            "text/plain": [
              "<Figure size 432x288 with 1 Axes>"
            ]
          },
          "metadata": {
            "tags": [],
            "needs_background": "light"
          }
        }
      ]
    },
    {
      "cell_type": "markdown",
      "metadata": {
        "id": "bRJ_su8uE3nz"
      },
      "source": [
        "#### Lot of words"
      ]
    },
    {
      "cell_type": "code",
      "metadata": {
        "id": "9nM6eqbcFylS"
      },
      "source": [
        "words, inter = searchClues(DDI_info, key=\"clue_words\", how_many=50)"
      ],
      "execution_count": 11,
      "outputs": []
    },
    {
      "cell_type": "code",
      "metadata": {
        "colab": {
          "base_uri": "https://localhost:8080/",
          "height": 0
        },
        "id": "j5Mol3SSE5JA",
        "outputId": "e4dfc96a-c669-4206-9ec2-725aec37922e"
      },
      "source": [
        "a = pd.DataFrame.from_dict(words)\n",
        "a"
      ],
      "execution_count": 12,
      "outputs": [
        {
          "output_type": "execute_result",
          "data": {
            "text/html": [
              "<div>\n",
              "<style scoped>\n",
              "    .dataframe tbody tr th:only-of-type {\n",
              "        vertical-align: middle;\n",
              "    }\n",
              "\n",
              "    .dataframe tbody tr th {\n",
              "        vertical-align: top;\n",
              "    }\n",
              "\n",
              "    .dataframe thead th {\n",
              "        text-align: right;\n",
              "    }\n",
              "</style>\n",
              "<table border=\"1\" class=\"dataframe\">\n",
              "  <thead>\n",
              "    <tr style=\"text-align: right;\">\n",
              "      <th></th>\n",
              "      <th>advise</th>\n",
              "      <th>effect</th>\n",
              "      <th>int</th>\n",
              "      <th>mechanism</th>\n",
              "      <th>null</th>\n",
              "    </tr>\n",
              "  </thead>\n",
              "  <tbody>\n",
              "    <tr>\n",
              "      <th>administered</th>\n",
              "      <td>106.0</td>\n",
              "      <td>89.0</td>\n",
              "      <td>NaN</td>\n",
              "      <td>48.0</td>\n",
              "      <td>NaN</td>\n",
              "    </tr>\n",
              "    <tr>\n",
              "      <th>e.g.</th>\n",
              "      <td>92.0</td>\n",
              "      <td>93.0</td>\n",
              "      <td>105.0</td>\n",
              "      <td>58.0</td>\n",
              "      <td>1401.0</td>\n",
              "    </tr>\n",
              "    <tr>\n",
              "      <th>patients</th>\n",
              "      <td>90.0</td>\n",
              "      <td>NaN</td>\n",
              "      <td>NaN</td>\n",
              "      <td>NaN</td>\n",
              "      <td>NaN</td>\n",
              "    </tr>\n",
              "    <tr>\n",
              "      <th>drugs</th>\n",
              "      <td>80.0</td>\n",
              "      <td>189.0</td>\n",
              "      <td>50.0</td>\n",
              "      <td>75.0</td>\n",
              "      <td>2730.0</td>\n",
              "    </tr>\n",
              "    <tr>\n",
              "      <th>used</th>\n",
              "      <td>71.0</td>\n",
              "      <td>NaN</td>\n",
              "      <td>NaN</td>\n",
              "      <td>NaN</td>\n",
              "      <td>NaN</td>\n",
              "    </tr>\n",
              "    <tr>\n",
              "      <th>...</th>\n",
              "      <td>...</td>\n",
              "      <td>...</td>\n",
              "      <td>...</td>\n",
              "      <td>...</td>\n",
              "      <td>...</td>\n",
              "    </tr>\n",
              "    <tr>\n",
              "      <th>diflunisal</th>\n",
              "      <td>NaN</td>\n",
              "      <td>NaN</td>\n",
              "      <td>NaN</td>\n",
              "      <td>NaN</td>\n",
              "      <td>616.0</td>\n",
              "    </tr>\n",
              "    <tr>\n",
              "      <th>dietary</th>\n",
              "      <td>NaN</td>\n",
              "      <td>NaN</td>\n",
              "      <td>NaN</td>\n",
              "      <td>NaN</td>\n",
              "      <td>610.0</td>\n",
              "    </tr>\n",
              "    <tr>\n",
              "      <th>deficiencies</th>\n",
              "      <td>NaN</td>\n",
              "      <td>NaN</td>\n",
              "      <td>NaN</td>\n",
              "      <td>NaN</td>\n",
              "      <td>608.0</td>\n",
              "    </tr>\n",
              "    <tr>\n",
              "      <th>midazolam</th>\n",
              "      <td>NaN</td>\n",
              "      <td>NaN</td>\n",
              "      <td>NaN</td>\n",
              "      <td>NaN</td>\n",
              "      <td>606.0</td>\n",
              "    </tr>\n",
              "    <tr>\n",
              "      <th>narcotics</th>\n",
              "      <td>NaN</td>\n",
              "      <td>NaN</td>\n",
              "      <td>NaN</td>\n",
              "      <td>NaN</td>\n",
              "      <td>599.0</td>\n",
              "    </tr>\n",
              "  </tbody>\n",
              "</table>\n",
              "<p>198 rows × 5 columns</p>\n",
              "</div>"
            ],
            "text/plain": [
              "              advise  effect    int  mechanism    null\n",
              "administered   106.0    89.0    NaN       48.0     NaN\n",
              "e.g.            92.0    93.0  105.0       58.0  1401.0\n",
              "patients        90.0     NaN    NaN        NaN     NaN\n",
              "drugs           80.0   189.0   50.0       75.0  2730.0\n",
              "used            71.0     NaN    NaN        NaN     NaN\n",
              "...              ...     ...    ...        ...     ...\n",
              "diflunisal       NaN     NaN    NaN        NaN   616.0\n",
              "dietary          NaN     NaN    NaN        NaN   610.0\n",
              "deficiencies     NaN     NaN    NaN        NaN   608.0\n",
              "midazolam        NaN     NaN    NaN        NaN   606.0\n",
              "narcotics        NaN     NaN    NaN        NaN   599.0\n",
              "\n",
              "[198 rows x 5 columns]"
            ]
          },
          "metadata": {
            "tags": []
          },
          "execution_count": 12
        }
      ]
    },
    {
      "cell_type": "code",
      "metadata": {
        "colab": {
          "base_uri": "https://localhost:8080/"
        },
        "id": "arPcSYpsF5E5",
        "outputId": "41ca058d-4a54-4add-808a-e98bf8c690ad"
      },
      "source": [
        "inter"
      ],
      "execution_count": 13,
      "outputs": [
        {
          "output_type": "execute_result",
          "data": {
            "text/plain": [
              "{'acid': ['effect-164.0', 'null-3168.0'],\n",
              " 'administered': ['advise-106.0', 'effect-89.0', 'mechanism-48.0'],\n",
              " 'agents': ['advise-24.0', 'effect-99.0'],\n",
              " 'anesthetics': ['effect-69.0', 'null-953.0'],\n",
              " 'antibiotics': ['effect-97.0', 'int-74.0'],\n",
              " 'antidepressants': ['advise-44.0', 'int-21.0'],\n",
              " 'blood': ['effect-45.0', 'null-812.0'],\n",
              " 'certain': ['advise-38.0', 'effect-96.0', 'int-34.0'],\n",
              " 'cimetidine': ['mechanism-58.0', 'null-678.0'],\n",
              " 'clarithromycin': ['advise-30.0', 'mechanism-35.0'],\n",
              " 'clofibrate': ['effect-46.0', 'int-25.0', 'null-995.0'],\n",
              " 'concomitantly': ['advise-48.0', 'effect-78.0'],\n",
              " 'diazepam': ['mechanism-49.0', 'null-616.0'],\n",
              " 'drugs': ['advise-80.0',\n",
              "  'effect-189.0',\n",
              "  'int-50.0',\n",
              "  'mechanism-75.0',\n",
              "  'null-2730.0'],\n",
              " 'e.g.': ['advise-92.0',\n",
              "  'effect-93.0',\n",
              "  'int-105.0',\n",
              "  'mechanism-58.0',\n",
              "  'null-1401.0'],\n",
              " 'eg': ['advise-15.0', 'effect-49.0'],\n",
              " 'erythromycin': ['advise-15.0', 'mechanism-43.0'],\n",
              " 'following': ['advise-18.0', 'int-73.0', 'mechanism-90.0'],\n",
              " 'include': ['effect-138.0', 'int-28.0'],\n",
              " 'including': ['advise-51.0', 'effect-82.0'],\n",
              " 'increase': ['effect-63.0', 'mechanism-78.0'],\n",
              " 'increased': ['effect-67.0', 'mechanism-71.0'],\n",
              " 'inhibitors': ['advise-66.0',\n",
              "  'effect-62.0',\n",
              "  'int-40.0',\n",
              "  'mechanism-58.0',\n",
              "  'null-2364.0'],\n",
              " 'itraconazole': ['advise-27.0', 'mechanism-59.0', 'null-800.0'],\n",
              " 'ketoconazole': ['advise-42.0', 'mechanism-37.0'],\n",
              " 'may': ['advise-24.0',\n",
              "  'effect-382.0',\n",
              "  'int-138.0',\n",
              "  'mechanism-164.0',\n",
              "  'null-1115.0'],\n",
              " 'mg': ['mechanism-66.0', 'null-754.0'],\n",
              " 'monoamine': ['effect-45.0', 'null-828.0'],\n",
              " 'oral': ['advise-16.0', 'effect-62.0', 'mechanism-63.0', 'null-1410.0'],\n",
              " 'oxidase': ['effect-45.0', 'null-838.0'],\n",
              " 'phenothiazines': ['advise-15.0', 'effect-49.0'],\n",
              " 'protease': ['int-20.0', 'null-1042.0'],\n",
              " 'reduce': ['effect-57.0', 'mechanism-45.0']}"
            ]
          },
          "metadata": {
            "tags": []
          },
          "execution_count": 13
        }
      ]
    },
    {
      "cell_type": "markdown",
      "metadata": {
        "id": "mcv4MGxsHGKI"
      },
      "source": [
        "## Test the effect of choosing one word"
      ]
    },
    {
      "cell_type": "code",
      "metadata": {
        "colab": {
          "base_uri": "https://localhost:8080/"
        },
        "id": "-Lbh41K9HNGI",
        "outputId": "eefc0a62-0135-48dd-ae03-748ddfa39f1e"
      },
      "source": [
        "word_to_check = 'response'\n",
        "dict_to_check = 'e1_under' # clue_words, sentence_words, e1_under, e2_under\n",
        "\n",
        "for t in ['effect', 'mechanism', 'int', 'advise', 'null']:\n",
        "    print('--------------------')\n",
        "    print(t)\n",
        "    if word_to_check in DDI_info[t][dict_to_check]:\n",
        "        print(DDI_info[t][dict_to_check][word_to_check])\n",
        "    else:\n",
        "        print(0)\n",
        "    print(DDI_info[t]['total'])"
      ],
      "execution_count": 14,
      "outputs": [
        {
          "output_type": "stream",
          "text": [
            "--------------------\n",
            "effect\n",
            "87\n",
            "1450\n",
            "--------------------\n",
            "mechanism\n",
            "0\n",
            "1020\n",
            "--------------------\n",
            "int\n",
            "0\n",
            "231\n",
            "--------------------\n",
            "advise\n",
            "0\n",
            "697\n",
            "--------------------\n",
            "null\n",
            "40\n",
            "19750\n"
          ],
          "name": "stdout"
        }
      ]
    },
    {
      "cell_type": "code",
      "metadata": {
        "id": "nass7TrkHd8Q"
      },
      "source": [
        "def check_word(word_to_check, dict_to_check = \"clue_words\"):\n",
        "  print(\"| \"+ word_to_check+\" |\")\n",
        "  for t in classes:\n",
        "    print('--------------------')\n",
        "    print(t)\n",
        "    if word_to_check in DDI_info[t][dict_to_check]:\n",
        "        print(DDI_info[t][dict_to_check][word_to_check])\n",
        "    else:\n",
        "        print(0)\n",
        "    print(DDI_info[t]['total'])"
      ],
      "execution_count": 15,
      "outputs": []
    },
    {
      "cell_type": "markdown",
      "metadata": {
        "id": "d_h0qddkHwCv"
      },
      "source": [
        "## Check interactions"
      ]
    },
    {
      "cell_type": "code",
      "metadata": {
        "colab": {
          "base_uri": "https://localhost:8080/"
        },
        "id": "NH0lh_qfiDXf",
        "outputId": "3ede8582-4c31-4ae3-d057-fd854948cf29"
      },
      "source": [
        "check_word(\"concentration\", dict_to_check=\"e1_under\")"
      ],
      "execution_count": 16,
      "outputs": [
        {
          "output_type": "stream",
          "text": [
            "| concentration |\n",
            "--------------------\n",
            "advise\n",
            "9\n",
            "697\n",
            "--------------------\n",
            "effect\n",
            "5\n",
            "1450\n",
            "--------------------\n",
            "int\n",
            "0\n",
            "231\n",
            "--------------------\n",
            "mechanism\n",
            "125\n",
            "1020\n",
            "--------------------\n",
            "null\n",
            "363\n",
            "19750\n"
          ],
          "name": "stdout"
        }
      ]
    },
    {
      "cell_type": "markdown",
      "metadata": {
        "id": "jdthWRwWIVf_"
      },
      "source": [
        "## Check Stadistics"
      ]
    },
    {
      "cell_type": "code",
      "metadata": {
        "colab": {
          "base_uri": "https://localhost:8080/"
        },
        "id": "eX5zJLy_IXH7",
        "outputId": "e80ecfd0-c016-4153-be45-092711268a15"
      },
      "source": [
        "for t in classes:\n",
        "    print('-----------------------------------------------')\n",
        "    print(\"TYPE\", t)\n",
        "    print(\"Clue_words\")\n",
        "    total = DDI_info[t][\"total\"]\n",
        "    print(sorted(DDI_info[t]['clue_words'].items(), key=lambda item: item[1], reverse=True)[0:20])\n",
        "    print(\"Words in sentence\")\n",
        "    print(sorted(DDI_info[t]['sentence_words'].items(), key=lambda item: item[1], reverse=True)[0:20])\n",
        "    print(\"E1 under\")\n",
        "    print(sorted(DDI_info[t]['e1_under'].items(), key=lambda item: item[1], reverse=True)[0:20])\n",
        "    print(\"E2 under\")\n",
        "    print(sorted(DDI_info[t]['e2_under'].items(), key=lambda item: item[1], reverse=True)[0:20])\n",
        "    print(\"e1_e2_under_same_verb\", DDI_info[t]['e1_e2_under_same_verb'], DDI_info[t]['e1_e2_under_same_verb']/total*100, '%')\n",
        "    print(\"e1_under_e2\", DDI_info[t]['e1_under_e2'], DDI_info[t]['e1_under_e2']/total*100, '%')\n",
        "    print(\"e2_under_e1\", DDI_info[t]['e2_under_e1'], DDI_info[t]['e2_under_e1']/total*100, '%')\n",
        "    print(\"total\", total)\n",
        "    print('-----------------------------------------------')"
      ],
      "execution_count": 17,
      "outputs": [
        {
          "output_type": "stream",
          "text": [
            "-----------------------------------------------\n",
            "TYPE advise\n",
            "Clue_words\n",
            "[('administered', 106), ('e.g.', 92), ('patients', 90), ('drugs', 80), ('used', 71), ('inhibitors', 66), ('receiving', 58), ('including', 51), ('concomitantly', 48), ('antidepressants', 44), ('caution', 43), ('CYP3A4', 42), ('ketoconazole', 42), ('metabolized', 39), ('strong', 38), ('certain', 38), ('therapy', 34), ('concurrently', 31), ('clarithromycin', 30), ('dose', 28)]\n",
            "Words in sentence\n",
            "[('patients', 156), ('e.g.', 148), ('used', 124), ('drugs', 124), ('administered', 121), ('caution', 119), ('dose', 115), ('may', 106), ('inhibitors', 104), ('receiving', 85), ('CYP3A4', 84), ('ketoconazole', 81), ('Therefore', 76), ('recommended', 75), ('therapy', 73), ('concomitantly', 70), ('concomitant', 68), ('agents', 67), ('administration', 65), ('use', 62)]\n",
            "E1 under\n",
            "[('', 248), ('administer', 99), ('use', 86), ('administration', 56), ('receive', 35), ('dose', 34), ('take', 33), ('co-administration', 33), ('ketoconazole', 28), ('coadminister', 27), ('therapy', 26), ('medication', 21), ('treatment', 20), ('give', 19), ('Coadministration', 12), ('dosage', 12), ('tell', 12), ('eg', 12), ('mg', 11), (',', 11)]\n",
            "E2 under\n",
            "[]\n",
            "e1_e2_under_same_verb 26 3.7302725968436152 %\n",
            "e1_under_e2 2 0.2869440459110474 %\n",
            "e2_under_e1 44 6.312769010043041 %\n",
            "total 697\n",
            "-----------------------------------------------\n",
            "-----------------------------------------------\n",
            "TYPE effect\n",
            "Clue_words\n",
            "[('may', 382), ('effects', 190), ('drugs', 189), ('alcohol', 178), ('response', 173), ('acid', 164), ('include', 138), ('effect', 108), ('agents', 99), ('antibiotics', 97), ('certain', 96), ('e.g.', 93), ('administered', 89), ('including', 82), ('ie', 79), ('man', 79), ('concomitantly', 78), ('system', 78), ('steroids', 74), ('enhance', 71)]\n",
            "Words in sentence\n",
            "[('may', 749), ('drugs', 483), ('effects', 362), ('acid', 286), ('The', 245), ('agents', 234), ('alcohol', 225), ('patients', 220), ('oral', 194), ('inhibitors', 192), ('response', 185), ('effect', 184), ('sodium', 177), ('CNS', 171), ('use', 169), ('increase', 167), ('prothrombin', 163), ('e.g.', 162), ('anesthetics', 161), ('increased', 157)]\n",
            "E1 under\n",
            "[('', 720), ('effect', 177), ('use', 97), ('response', 87), ('alcohol', 71), ('action', 69), ('agent', 62), ('administration', 59), ('enhance', 45), ('therapy', 36), ('receive', 32), ('drug', 29), ('increase', 29), ('induce', 26), ('decrease', 25), ('fluoxetine', 25), ('dose', 24), ('inhibitor', 24), ('produce', 23), ('administer', 21)]\n",
            "E2 under\n",
            "[]\n",
            "e1_e2_under_same_verb 28 1.9310344827586208 %\n",
            "e1_under_e2 6 0.41379310344827586 %\n",
            "e2_under_e1 66 4.551724137931035 %\n",
            "total 1450\n",
            "-----------------------------------------------\n",
            "-----------------------------------------------\n",
            "TYPE int\n",
            "Clue_words\n",
            "[('may', 138), ('interact', 123), ('e.g.', 105), ('antibiotics', 74), ('following', 73), ('medications', 62), ('acetaminophen', 56), ('Tylenol', 54), ('drugs', 50), ('ampicillin', 40), ('inhibitors', 40), ('tetracycline', 39), ('cyclosporine', 38), ('anticonvulsants', 38), ('Dilantin', 37), ('Phenobarbital', 36), ('Tegretol', 35), ('Trileptal', 34), ('certain', 34), ('Topamax', 33)]\n",
            "Words in sentence\n",
            "[('may', 235), ('e.g.', 184), ('drugs', 128), ('interact', 123), ('antibiotics', 79), ('medications', 79), ('following', 73), ('inhibitors', 72), ('cyclosporine', 60), ('Tylenol', 56), ('medicines', 56), ('acetaminophen', 56), ('supplements', 53), ('quinidine', 52), ('theophylline', 49), ('vitamin', 44), ('HIV', 44), ('classified', 44), ('St.', 44), ('Johns', 44)]\n",
            "E1 under\n",
            "[('interact', 119), ('', 78), ('interaction', 27), ('antibiotic', 16), ('agent', 15), ('administration', 13), ('ampicillin', 12), ('aminoglycoside', 12), ('cyclosporine', 10), ('ergotamine', 8), ('decrease', 8), ('acetaminophen', 6), ('agenerase', 6), ('antidepressant', 6), ('study', 5), ('other', 5), ('Dilantin', 5), ('supplement', 5), ('phenelzine', 5), ('depressant', 4)]\n",
            "E2 under\n",
            "[]\n",
            "e1_e2_under_same_verb 7 3.0303030303030303 %\n",
            "e1_under_e2 0 0.0 %\n",
            "e2_under_e1 11 4.761904761904762 %\n",
            "total 231\n",
            "-----------------------------------------------\n",
            "-----------------------------------------------\n",
            "TYPE mechanism\n",
            "Clue_words\n",
            "[('may', 164), ('following', 90), ('increase', 78), ('plasma', 76), ('metabolism', 75), ('drugs', 75), ('increased', 71), ('mg', 66), ('concentrations', 64), ('oral', 63), ('absorption', 59), ('itraconazole', 59), ('inhibitors', 58), ('e.g.', 58), ('cimetidine', 58), ('clearance', 54), ('delavirdine', 53), ('enzymes', 51), ('due', 49), ('diazepam', 49)]\n",
            "Words in sentence\n",
            "[('plasma', 350), ('may', 331), ('increase', 270), ('levels', 246), ('concentrations', 189), ('inhibitors', 164), ('increased', 152), ('decreased', 147), ('AUC', 145), ('mg', 140), ('oral', 139), ('drugs', 132), ('metabolism', 130), ('administration', 126), ('decrease', 121), ('CYP3A4', 114), ('itraconazole', 104), ('1', 102), ('clearance', 101), ('absorption', 99)]\n",
            "E1 under\n",
            "[('', 202), ('concentration', 125), ('level', 93), ('administration', 65), ('increase', 60), ('absorption', 56), ('presence', 51), ('clearance', 51), ('Acetaminophen', 43), ('metabolism', 41), ('inhibit', 35), ('decrease', 34), ('dose', 29), ('Coadministration', 29), ('auc', 29), ('use', 29), ('have', 27), ('co-administration', 27), ('administer', 24), ('Acetazolamide', 23)]\n",
            "E2 under\n",
            "[]\n",
            "e1_e2_under_same_verb 14 1.3725490196078431 %\n",
            "e1_under_e2 1 0.09803921568627451 %\n",
            "e2_under_e1 23 2.2549019607843137 %\n",
            "total 1020\n",
            "-----------------------------------------------\n",
            "-----------------------------------------------\n",
            "TYPE null\n",
            "Clue_words\n",
            "[('acid', 3168), ('drugs', 2730), ('inhibitors', 2364), ('oral', 1410), ('e.g.', 1401), ('prolonged', 1161), ('may', 1115), ('phenytoin', 1076), ('protease', 1042), ('phenylbutazone', 1006), ('clofibrate', 995), ('anesthetics', 953), ('naproxen', 940), ('indomethacin', 861), ('oxidase', 838), ('monoamine', 828), ('blood', 812), ('ibuprofen', 802), ('itraconazole', 800), ('methylphenidate', 794)]\n",
            "Words in sentence\n",
            "[('drugs', 9660), ('may', 8290), ('acid', 7953), ('inhibitors', 6473), ('oral', 5125), ('e.g.', 4263), ('following', 3904), ('warfarin', 3599), ('response', 3557), ('sodium', 3549), ('increase', 3355), ('prothrombin', 3262), ('antibiotics', 3052), ('phenytoin', 2932), ('prolonged', 2886), ('plasma', 2843), ('increased', 2777), ('include', 2728), ('levels', 2653), ('theophylline', 2614)]\n",
            "E1 under\n",
            "[('', 7573), ('alcohol', 2348), ('Acetaminophen', 1892), ('null', 898), ('Acetazolamide', 575), ('ampicillin', 541), ('effect', 427), ('intake', 406), ('antibiotic', 402), ('steroid', 398), ('acetaminophen', 387), ('concentration', 363), ('diazepam', 348), ('inhibitor', 343), ('eg', 330), ('administration', 316), ('dose', 313), ('pharmacokinetic', 309), ('level', 306), ('use', 301)]\n",
            "E2 under\n",
            "[]\n",
            "e1_e2_under_same_verb 108 0.5468354430379746 %\n",
            "e1_under_e2 182 0.9215189873417722 %\n",
            "e2_under_e1 1394 7.058227848101266 %\n",
            "total 19750\n",
            "-----------------------------------------------\n"
          ],
          "name": "stdout"
        }
      ]
    },
    {
      "cell_type": "markdown",
      "metadata": {
        "id": "kCf3GNOzhB3U"
      },
      "source": [
        "## Check with Clues\n"
      ]
    },
    {
      "cell_type": "code",
      "metadata": {
        "colab": {
          "base_uri": "https://localhost:8080/",
          "height": 402
        },
        "id": "IPr86NAZhvns",
        "outputId": "7487dc74-3c92-4f35-d00e-d1cc5aa1ce54"
      },
      "source": [
        "Data = pd.DataFrame.from_dict(Clues)\n",
        "Data = Data.T\n",
        "Data"
      ],
      "execution_count": 31,
      "outputs": [
        {
          "output_type": "execute_result",
          "data": {
            "text/html": [
              "<div>\n",
              "<style scoped>\n",
              "    .dataframe tbody tr th:only-of-type {\n",
              "        vertical-align: middle;\n",
              "    }\n",
              "\n",
              "    .dataframe tbody tr th {\n",
              "        vertical-align: top;\n",
              "    }\n",
              "\n",
              "    .dataframe thead th {\n",
              "        text-align: right;\n",
              "    }\n",
              "</style>\n",
              "<table border=\"1\" class=\"dataframe\">\n",
              "  <thead>\n",
              "    <tr style=\"text-align: right;\">\n",
              "      <th></th>\n",
              "      <th>error</th>\n",
              "      <th>parent1</th>\n",
              "      <th>parent2</th>\n",
              "      <th>is_under</th>\n",
              "      <th>tag</th>\n",
              "      <th>type</th>\n",
              "    </tr>\n",
              "  </thead>\n",
              "  <tbody>\n",
              "    <tr>\n",
              "      <th>DDI-MedLine.d78.s1.p0</th>\n",
              "      <td>False</td>\n",
              "      <td>class</td>\n",
              "      <td>class</td>\n",
              "      <td>False</td>\n",
              "      <td>n</td>\n",
              "      <td>null</td>\n",
              "    </tr>\n",
              "    <tr>\n",
              "      <th>DDI-MedLine.d78.s2.p0</th>\n",
              "      <td>False</td>\n",
              "      <td>agent</td>\n",
              "      <td>norfloxacin</td>\n",
              "      <td>False</td>\n",
              "      <td>None</td>\n",
              "      <td>null</td>\n",
              "    </tr>\n",
              "    <tr>\n",
              "      <th>DDI-MedLine.d78.s2.p1</th>\n",
              "      <td>False</td>\n",
              "      <td>agent</td>\n",
              "      <td>norfloxacin</td>\n",
              "      <td>False</td>\n",
              "      <td>None</td>\n",
              "      <td>null</td>\n",
              "    </tr>\n",
              "    <tr>\n",
              "      <th>DDI-MedLine.d78.s2.p2</th>\n",
              "      <td>False</td>\n",
              "      <td>agent</td>\n",
              "      <td>norfloxacin</td>\n",
              "      <td>False</td>\n",
              "      <td>None</td>\n",
              "      <td>null</td>\n",
              "    </tr>\n",
              "    <tr>\n",
              "      <th>DDI-MedLine.d78.s2.p3</th>\n",
              "      <td>False</td>\n",
              "      <td>agent</td>\n",
              "      <td>norfloxacin</td>\n",
              "      <td>False</td>\n",
              "      <td>None</td>\n",
              "      <td>null</td>\n",
              "    </tr>\n",
              "    <tr>\n",
              "      <th>...</th>\n",
              "      <td>...</td>\n",
              "      <td>...</td>\n",
              "      <td>...</td>\n",
              "      <td>...</td>\n",
              "      <td>...</td>\n",
              "      <td>...</td>\n",
              "    </tr>\n",
              "    <tr>\n",
              "      <th>DDI-DrugBank.d324.s35.p4</th>\n",
              "      <td>False</td>\n",
              "      <td>dose</td>\n",
              "      <td>dose</td>\n",
              "      <td>False</td>\n",
              "      <td>None</td>\n",
              "      <td>null</td>\n",
              "    </tr>\n",
              "    <tr>\n",
              "      <th>DDI-DrugBank.d324.s35.p5</th>\n",
              "      <td>False</td>\n",
              "      <td>pharmacokinetic</td>\n",
              "      <td>dose</td>\n",
              "      <td>False</td>\n",
              "      <td>None</td>\n",
              "      <td>null</td>\n",
              "    </tr>\n",
              "    <tr>\n",
              "      <th>DDI-DrugBank.d324.s36.p0</th>\n",
              "      <td>False</td>\n",
              "      <td>alter</td>\n",
              "      <td>know</td>\n",
              "      <td>False</td>\n",
              "      <td>None</td>\n",
              "      <td>null</td>\n",
              "    </tr>\n",
              "    <tr>\n",
              "      <th>DDI-DrugBank.d324.s37.p0</th>\n",
              "      <td>False</td>\n",
              "      <td>interaction</td>\n",
              "      <td>zaleplon</td>\n",
              "      <td>False</td>\n",
              "      <td>None</td>\n",
              "      <td>int</td>\n",
              "    </tr>\n",
              "    <tr>\n",
              "      <th>DDI-DrugBank.d324.s38.p0</th>\n",
              "      <td>False</td>\n",
              "      <td>metabolize</td>\n",
              "      <td>account</td>\n",
              "      <td>False</td>\n",
              "      <td>None</td>\n",
              "      <td>null</td>\n",
              "    </tr>\n",
              "  </tbody>\n",
              "</table>\n",
              "<p>23148 rows × 6 columns</p>\n",
              "</div>"
            ],
            "text/plain": [
              "                          error          parent1  ...   tag  type\n",
              "DDI-MedLine.d78.s1.p0     False            class  ...     n  null\n",
              "DDI-MedLine.d78.s2.p0     False            agent  ...  None  null\n",
              "DDI-MedLine.d78.s2.p1     False            agent  ...  None  null\n",
              "DDI-MedLine.d78.s2.p2     False            agent  ...  None  null\n",
              "DDI-MedLine.d78.s2.p3     False            agent  ...  None  null\n",
              "...                         ...              ...  ...   ...   ...\n",
              "DDI-DrugBank.d324.s35.p4  False             dose  ...  None  null\n",
              "DDI-DrugBank.d324.s35.p5  False  pharmacokinetic  ...  None  null\n",
              "DDI-DrugBank.d324.s36.p0  False            alter  ...  None  null\n",
              "DDI-DrugBank.d324.s37.p0  False      interaction  ...  None   int\n",
              "DDI-DrugBank.d324.s38.p0  False       metabolize  ...  None  null\n",
              "\n",
              "[23148 rows x 6 columns]"
            ]
          },
          "metadata": {
            "tags": []
          },
          "execution_count": 31
        }
      ]
    },
    {
      "cell_type": "code",
      "metadata": {
        "id": "IxkzIwiNh4BE"
      },
      "source": [
        "parent1 = Data[\"parent1\"][Data[\"type\"] == \"null\"]"
      ],
      "execution_count": 33,
      "outputs": []
    },
    {
      "cell_type": "code",
      "metadata": {
        "id": "KR7RdSBSiL0j"
      },
      "source": [
        "info = {}\n",
        "for p in parent1.to_numpy():\n",
        "    if p not in info:\n",
        "      info[p]=0\n",
        "    info[p]+=1"
      ],
      "execution_count": 38,
      "outputs": []
    },
    {
      "cell_type": "code",
      "metadata": {
        "id": "U482Lv7kiqS7"
      },
      "source": [
        "classes = ['advise', 'effect', 'int', 'mechanism', 'null']\n",
        "def getMostTypical(data, type_=\"parent1\"):\n",
        "  info = {}\n",
        "  for c in classes:\n",
        "    info[c] = {}\n",
        "    parent1 = data[type_][data[\"type\"] == c]\n",
        "    for p in parent1.to_numpy():\n",
        "        if p not in info[c]:\n",
        "          info[c][p]=0\n",
        "        info[c][p]+=1\n",
        "  return info"
      ],
      "execution_count": 41,
      "outputs": []
    },
    {
      "cell_type": "code",
      "metadata": {
        "id": "nHbYi5JCjJ8r"
      },
      "source": [
        "parent1_typical = getMostTypical(Data, \"parent1\")"
      ],
      "execution_count": 43,
      "outputs": []
    },
    {
      "cell_type": "code",
      "metadata": {
        "id": "-ZzzF4-5jaBr"
      },
      "source": [
        "import pandas as pd\n",
        "from matplotlib import pyplot as plt\n",
        "\n",
        "def search(info_DDI, how_many=15):\n",
        "    a = pd.DataFrame.from_dict(info_DDI)\n",
        "\n",
        "    def cut(dict):\n",
        "        ks = list(dict.keys())[:how_many]\n",
        "        map = {}\n",
        "        for k in ks:\n",
        "            map[k]=dict[k]\n",
        "        return map\n",
        "\n",
        "    for class_ in list(info_DDI.keys()):\n",
        "        clue_words[class_] = cut(a[class_].sort_values(ascending=False).dropna().to_dict())\n",
        "\n",
        "    interactions = checkInterctions(clue_words)\n",
        "    return clue_words, interactions\n",
        "\n",
        "def plot(data, title = \"Clues Analysis\"):\n",
        "    a = pd.DataFrame.from_dict(data)\n",
        "\n",
        "    fig = a.plot.bar()\n",
        "    plt.title(title, fontsize=20)\n",
        "    plt.ylabel('Number of Interactions', fontsize=18)\n",
        "    plt.xlabel(title, fontsize=16)\n",
        "    plt.savefig(title+'.jpg')\n",
        "    plt.show()\n",
        "\n"
      ],
      "execution_count": 46,
      "outputs": []
    },
    {
      "cell_type": "code",
      "metadata": {
        "id": "3D6ZBSxSjs2c"
      },
      "source": [
        "cut_15, interactions = search(parent1_typical)"
      ],
      "execution_count": null,
      "outputs": []
    },
    {
      "cell_type": "code",
      "metadata": {
        "colab": {
          "base_uri": "https://localhost:8080/"
        },
        "id": "bTgD7W3xj5bL",
        "outputId": "9c079eab-941a-4187-ba47-8186a76d72f6"
      },
      "source": [
        "cut_15.pop(\"null\")"
      ],
      "execution_count": 51,
      "outputs": [
        {
          "output_type": "execute_result",
          "data": {
            "text/plain": [
              "{'Acetaminophen': 946.0,\n",
              " 'Acetazolamide': 300.0,\n",
              " None: 1041.0,\n",
              " 'acetaminophen': 300.0,\n",
              " 'administer': 287.0,\n",
              " 'administration': 407.0,\n",
              " 'alcohol': 1551.0,\n",
              " 'ampicillin': 224.0,\n",
              " 'dose': 213.0,\n",
              " 'drug': 220.0,\n",
              " 'effect': 340.0,\n",
              " 'inhibitor': 266.0,\n",
              " 'intake': 218.0,\n",
              " 'steroid': 222.0,\n",
              " 'use': 511.0}"
            ]
          },
          "metadata": {
            "tags": []
          },
          "execution_count": 51
        }
      ]
    },
    {
      "cell_type": "code",
      "metadata": {
        "colab": {
          "base_uri": "https://localhost:8080/",
          "height": 383
        },
        "id": "1A2t5mTVj9iN",
        "outputId": "0f12be46-753e-4a8b-cc0a-abba64c82d00"
      },
      "source": [
        "plot(cut_15, title = \"Parent1\")"
      ],
      "execution_count": 55,
      "outputs": [
        {
          "output_type": "display_data",
          "data": {
            "image/png": "[encoded data removed]",
            "text/plain": [
              "<Figure size 432x288 with 1 Axes>"
            ]
          },
          "metadata": {
            "tags": [],
            "needs_background": "light"
          }
        }
      ]
    },
    {
      "cell_type": "markdown",
      "metadata": {
        "id": "EfhBlgfVkSCE"
      },
      "source": [
        "## Do with all"
      ]
    },
    {
      "cell_type": "code",
      "metadata": {
        "colab": {
          "base_uri": "https://localhost:8080/"
        },
        "id": "WJ-7KlvvkYOD",
        "outputId": "1ddb878f-fc66-4e32-9aff-400a2b19e6ec"
      },
      "source": [
        "list(Data.keys())"
      ],
      "execution_count": 59,
      "outputs": [
        {
          "output_type": "execute_result",
          "data": {
            "text/plain": [
              "['error', 'parent1', 'parent2', 'is_under', 'tag', 'type']"
            ]
          },
          "metadata": {
            "tags": []
          },
          "execution_count": 59
        }
      ]
    },
    {
      "cell_type": "code",
      "metadata": {
        "colab": {
          "base_uri": "https://localhost:8080/",
          "height": 1000
        },
        "id": "N0gfq-AOkh-j",
        "outputId": "842c19cb-e205-43f9-e43f-467c16911ae4"
      },
      "source": [
        "for k in Data.keys():\n",
        "  parent1_typical = getMostTypical(Data, k)\n",
        "  cut_15, interactions = search(parent1_typical)\n",
        "  if k not in [\"error\", \"tag\", \"type\"]:\n",
        "      cut_15.pop(\"null\")\n",
        "  plot(cut_15, title = k)"
      ],
      "execution_count": 63,
      "outputs": [
        {
          "output_type": "display_data",
          "data": {
            "image/png": "[encoded data removed]",
            "text/plain": [
              "<Figure size 432x288 with 1 Axes>"
            ]
          },
          "metadata": {
            "tags": [],
            "needs_background": "light"
          }
        },
        {
          "output_type": "display_data",
          "data": {
            "image/png": "[encoded data removed]",
            "text/plain": [
              "<Figure size 432x288 with 1 Axes>"
            ]
          },
          "metadata": {
            "tags": [],
            "needs_background": "light"
          }
        },
        {
          "output_type": "display_data",
          "data": {
            "image/png": "[encoded data removed]",
            "text/plain": [
              "<Figure size 432x288 with 1 Axes>"
            ]
          },
          "metadata": {
            "tags": [],
            "needs_background": "light"
          }
        },
        {
          "output_type": "display_data",
          "data": {
            "image/png": "[encoded data removed]",
            "text/plain": [
              "<Figure size 432x288 with 1 Axes>"
            ]
          },
          "metadata": {
            "tags": [],
            "needs_background": "light"
          }
        },
        {
          "output_type": "display_data",
          "data": {
            "image/png": "[encoded data removed]",
            "text/plain": [
              "<Figure size 432x288 with 1 Axes>"
            ]
          },
          "metadata": {
            "tags": [],
            "needs_background": "light"
          }
        },
        {
          "output_type": "display_data",
          "data": {
            "image/png": "[encoded data removed]",
            "text/plain": [
              "<Figure size 432x288 with 1 Axes>"
            ]
          },
          "metadata": {
            "tags": [],
            "needs_background": "light"
          }
        }
      ]
    }
  ]
}